{
 "cells": [
  {
   "cell_type": "code",
   "execution_count": 20,
   "metadata": {},
   "outputs": [],
   "source": [
    "import matplotlib.pyplot as plt\n",
    "import networkx as nx\n",
    "import itertools as it\n",
    "import random\n",
    "import math"
   ]
  },
  {
   "cell_type": "markdown",
   "metadata": {},
   "source": [
    "## Algorithm Design 2019-20 @ Computer Science - Università di Pisa\n",
    "# Randomized Approximation and Derandomization\n",
    "### Scribe: Filippo Lari.  Lecturer: Roberto Grossi.\n",
    "\n",
    "## Approximation algorithms\n",
    "\n",
    "Many optimization problems of practical interest fall into the class of NP-Hard problems, therefore algorithms which output the optimal solution in polynomial time in the size of the inputs are not yet known. One possible method of approaching such problems is through the use of so-called approximation algorithms, which are guaranteed to compute a feasible solution close to the optimal one within a factor $r\\, >\\, 1$. Formally if we denote with $OPT$ the optimal value for the considered problem's instance and with $COST(S)$ the value of a computed solution $S$, an approximation algorithm provide an $r$-approximation if for every problem's instance the following inequality hold:\n",
    "\n",
    "\\begin{equation}\n",
    "\\quad \\quad max\\{\\frac{COST(S)}{OPT},\\, \\frac{OPT}{COST(S)}\\}\\, \\leq\\, r\n",
    "\\end{equation}\n",
    "\n",
    "Clearly we are interested in those approximation algorithms which runs in polynomial time.\n",
    "\n",
    "## Randomized approximation algorithms\n",
    "\n",
    "As we saw during the course, randomization is a powerfull tool that can help us design very efficient algorithms. Even in the domain of approximation algorithm we can use randomness to obtain an $r$-approximation for a give problem. In this case we have to ensure that on average the value of the computed solution is close to the optimal one within a factor $r\\, >\\, 1$. In other words, if we denote with $COST(S)$ the expected value of our solution the above inequality holds.\n",
    "\n",
    "In this Lecture, using the *MAX-CUT* problem as a case study, we will design a randomized 2-approximation algorithm and we will also see two different methods that allow us to remove randomness from that algorithm, obtaining a deterministic one. First of all let's introduce our case study problem:\n",
    "\n",
    "## MAX-CUT problem\n",
    "\n",
    "Let $G\\, =\\, (V,\\, E)\\,$ be an unweighted graph, where $V$ is the set of nodes and $E$ is the set of edges. A cut for $G$ is a partition of $V$ into two disjoint subsets $S$ and $\\bar S$ such that $S\\, \\subseteq\\, V\\,$ and $\\bar S\\, =\\, V\\, \\setminus\\, S$.\n",
    "\n",
    "Given a cut $(S,\\, \\bar S)\\,$ we are interested in those edges that cross it, that is, the set of edges having an endpoint in $S$ and the other one in $\\bar S$. This set is called *cut-set* and we will denoted it as:\n",
    "\n",
    "\\begin{equation}\n",
    "E(S,\\, \\bar S)\\, =\\, \\{\\{u,v\\}\\, \\in\\, E\\, |\\, u\\, \\in S,\\, v\\, \\in\\, \\bar S\\}\n",
    "\\end{equation}\n",
    "\n",
    "While the cardinality of the aforementioned set is called *cut-size*, and we will simply denote it as $|E(S,\\, \\bar{S})|$.\n",
    "\n",
    "**Example**: Let's consider the following graph:"
   ]
  },
  {
   "cell_type": "markdown",
   "metadata": {},
   "source": [
    "<img src=\"graph_cut.png\">"
   ]
  },
  {
   "cell_type": "markdown",
   "metadata": {},
   "source": [
    "We have $S\\, =\\, \\{1,\\, 2,\\, 3\\}$ therefore $\\bar{S}\\, =\\, \\{4,\\, 5,\\, 6,\\, 7\\}$, our *cut-set* is $E(S,\\, \\bar S)\\, =\\, \\{(1,5),\\, (3,6),\\, (3,4)\\}$ and its size is 3.\n",
    "\n",
    "The *MAX-CUT* problem, in its non-decisional formulation, asks to determine a cut $(S,\\, \\bar S)$ for a given unweighted graph $G$ such that $|E(S,\\, \\bar S)|$ is maximum. This problem arises in many real situations, and since it has been proven to be *NP-Hard*, the design of a good approximation algorithm (randomized or not) is of great interest.\n",
    "\n",
    "## Randomized 2-approximation algorithm\n",
    "\n",
    "We have seen two deterministic approaches to obtain a polynomial time 2-approximation algorithm for **MAX-CUT** in the previous lectures, one is based on a local search and the other one on a greedy strategy. It's also possible to design a randomized one by observing that a cut is fully determined by which nodes belong to $S$, so the basic idea is to toss a fair coin (i.e $P(Coin\\, =\\, Head)\\, =\\, P(Coin\\, =\\, Cross)\\, =\\, \\frac{1}{2}$) for every node in $V$, then assign it to $S$ if the outcome is head and to $\\bar S$ otherwise (or vice versa it doesn't matter).\n",
    "\n",
    "It's easy to see that an algorithm based on this strategy always returns a feasible solution of the problem, but we are interested in the quality of such solution. Following the previous definition, to have a randomized 2-approximation, we have to show that the expected size of a computed cut is at least half the value of the optimal one.\n",
    "\n",
    "*Proof*:\n",
    "\n",
    "Consider an edge $\\{i,\\, j\\}\\, \\in\\, E$, the probability that this edge belong to the *cut-set* is:\n",
    "\n",
    "\\begin{equation}\n",
    "P(\\{i,\\, j\\}\\, \\in\\, E(S,\\, \\bar S))\\, =\\, P(\\{i\\, \\in S,\\, j\\, \\in\\, \\bar S\\}\\ \\cup\\ \\{i\\, \\in \\bar S,\\, j\\, \\in\\, S\\})\\, =\\, \\frac{1}{4}\\, + \\frac{1}{4}\\, =\\, \\frac{1}{2}\n",
    "\\end{equation}\n",
    "\n",
    "Since each node is inserted in one of the two sets independently from the others, and the events in the union are mutually exclusive.\n",
    "\n",
    "**Observation:** assigning a node to $S$ or $\\bar S$ with any other probability $0 < p < 1$ different from $\\frac{1}{2}$, we don't get an higher probability to have a given edge $\\{i,\\, j\\}$ in the *cut-set* as that probability would be the following:\n",
    "\n",
    "\\begin{equation}\n",
    "P(\\{i,\\, j\\}\\, \\in\\, E(S,\\, \\bar S))\\, =\\, p\\,(1-p)\\, +\\, p\\,(1-p)\\, =\\, 2p\\,(1-p)\n",
    "\\end{equation}\n",
    "\n",
    "which is maximum only for $p\\, =\\, \\frac{1}{2}\\,$.\n",
    "\n",
    "Now for every edge $\\{i, j\\} \\in E$ we define a random indicator variable for the event $\\{i, j\\} \\in E(S, \\bar S)$:\n",
    "\n",
    "\\begin{equation}\n",
    "X_{i,j}\\, =\\,\n",
    "\\begin{cases}\n",
    "1 & \\text{If}\\, \\{i,\\, j\\}\\, \\in\\, E(S,\\, \\bar S)\\\\\n",
    "0 & \\text{Otherwise}\n",
    "\\end{cases}\n",
    "\\end{equation}\n",
    "\n",
    "We can now express the value of the *cut-size* computed by our algorithm as a sum of those variables, which allows us to easily compute its expected value:\n",
    "\n",
    "<img src=\"proof1.PNG\" alt=\"drawing\" width=\"500\" height=\"500\">\n",
    "\n",
    "Now we don't know the optimal value $OPT$ for every instance of the problem, but we can use the quantity $|E|$ as an upper bound for it, as the size of each *cut-set* can't be larger than the total number of edges in the graph:\n",
    "\n",
    "\\begin{equation}\n",
    "\\frac{UB}{COST(S)}\\, =\\, 2\\, \\times\\, \\frac{|E|}{|E|}\\, =\\, 2\n",
    "\\end{equation}\n",
    "\n",
    "Which, by transitivity, implies the following:\n",
    "\n",
    "\\begin{equation}\n",
    "\\frac{OPT}{COST(S)}\\, \\leq\\, 2 \n",
    "\\end{equation}\n",
    "\n",
    "$\\square$\n",
    "\n",
    "In conclusion this proves that the quality of a solution computed by such an algorithm is, on average, at least half the value of the optimal one. Therefore is a randomized 2-approximation for the *MAX-CUT* problem and it also has $\\mathcal{O}(n)$ running time."
   ]
  },
  {
   "cell_type": "markdown",
   "metadata": {},
   "source": [
    "## Derandomization\n",
    "\n",
    "Derandomization deals with removing dependencies on random choices in order to obtain a deterministic algorithm from a non deterministic one. A very simple, but inefficient way to do that is by enumerating all the possible solutions that a non deterministic algorithm can came up with, and then return the better one. Regarding *MAX-CUT* and its randomized 2-approximation that we have developed before, we can build a deterministic algorithm from it simply by generating the power set of $V$, in other words enumerating all the possible cuts of the input graph. For each of them we proceed by computing their size and finally returning the cut with the maximal one.\n",
    "\n",
    "Using this *brute force* technique we obtain an algorithm that exactly solves *MAX-CUT* and its running time is $\\mathcal{O}(2^{n}\\, poly(n))$, where the $poly(n)$ factor is needed for computing the size of a given cut.\n",
    "\n",
    "Enumerationg all the possible random choices is not the most resource aware method to derandomize an algorithm, therefore we will see other two techniques that leads to more efficent algorithms, one based on *universal hash functions* and the other one on *conditional expectations*.\n",
    "\n",
    "## Derandomization via universal hash functions\n",
    "\n",
    "We can observe that our randomized 2-approximation basically chooses one solution at random among exponentially many. The idea of this method is to first develop a randomized algorithm that chooses among polynomially many solutions, where each of them on average have at least half the value of the optimal one. Then we can just enumerate all of them and select the maximal one. In this way we will only pay polynomial time. Before introducing this method, we briefly recall the definition of universal hash functions given in one of the first lectures:\n",
    "\n",
    "**Definition**: Let $\\mathscr{H}$ be a family of hash functions that map a universe of key $U$ in the interval \\{0,1,..,$m-1$\\}. Such a collection is called **universal** if for every distinct key $k,\\, l\\, \\in\\, U$ the number of hash functions $h\\, \\in\\, \\mathscr{H}$ such that $h(k)\\, =\\, h(l)$ is at most $\\frac{|\\mathscr{H}|}{m}$.\n",
    "\n",
    "From this definition follows that randomly selecting an hash function $h\\, \\in\\, \\mathscr{H}$ the probaility that two different keys collide is at most $\\frac{1}{m}$. Now let $p$ be a prime number, large enough such that every possible key $k$ is in the intervall that goes from $0$ to $p-1$. If we denote with $\\mathbb{Z}_{p}\\,$ the set $\\{0,1,\\dots,p-1\\}$ and with $\\mathbb{Z}_{p}^{*}$ the set $\\{1,2,\\dots,p-1\\}$. Given $a\\, \\in\\, \\mathbb{Z}_{p}^{*}\\, \\text{and}\\, b\\, \\in\\, \\mathbb{Z}_{p}$ we define the following hash function:\n",
    "\n",
    "\\begin{equation}\n",
    "h_{ab}(k)\\, =\\, ((ak\\,+\\,b)\\, \\text{mod}\\, p)\\, \\text{mod}\\, m\n",
    "\\end{equation}\n",
    "\n",
    "**Theorem**: The family of hash functions $\\mathscr{H}_{pm}\\, =\\, \\{ h_{ab}\\, :\\, a\\, \\in\\, \\mathbb{Z}_{p}^{*}\\, \\text{and}\\, b\\, \\in\\, \\mathbb{Z}_{p} \\}$ is universal.\n",
    "\n",
    "Now, without loss of generality, we can assume to have all the nodes numbered from 0 up to $|V|-1$ (the ordering doesn't matter). Consider the above family of hash functions $\\mathscr{H}_{pm}$ where $U\\, =\\, \\{0,\\dots,|V|-1\\}$ and $m\\, =\\, 2\\,$. Let $k$ be the closest power of 2 such that $2^{k-1}\\, <\\, n\\, \\leq\\, 2^{k}$, we choose the prime number $p$ greater than $2^{k}$, but close to it within a constant factor. We can now use an hash function $h\\, \\in\\, \\mathscr{H}_{pm}$ to build a cut in this way, for every node $u\\, \\in\\, V$ if $h(u)\\, =\\, 1$ then $u$ belongs to $S$, otherwise it belongs to $\\bar{S}$.\n",
    "\n",
    "**Theorem**: Building a cut according to the above strategy makes the probability for a given edge $\\{i,j\\}\\, \\in\\, E$ to be in $E(S,\\, \\bar S)\\,$ at least $\\frac{1}{2}$.\n",
    "\n",
    "*Proof:*\n",
    "$P((i,\\, j)\\, \\in\\, E(S,\\, \\bar S))\\, =\\, P(h(i)\\, \\neq\\, h(j))\\, =\\, 1\\, -\\, P(h(i)\\, =\\, h(j))\\, \\geq\\, \\frac{1}{2}\\, \\square $\n",
    "\n",
    "**Theorem**: The number of possible choices of $h\\, \\in\\, \\mathscr{H}_{pm}$ is $\\mathcal{O}(n^2)$.\n",
    "\n",
    "*Proof:*\n",
    "By the definition of $\\mathscr{H}_{pm}$, choosing a function from it is equivalent to choose $a\\, \\in\\, \\mathbb{Z}_{p}^{*}\\, \\text{and}\\, b\\, \\in\\, \\mathbb{Z}_{p}\\,$. All the possible choices of $a\\,$ and $b$ are $p\\, (p-1)$, by construction we have chosen $p$ to be $\\theta(2^k)$ and $n\\, \\leq\\, 2^k$. Therefore they are $\\mathcal{O}((2^{k})^2)\\, =\\, \\mathcal{O}(n^2) \\square$.\n",
    "\n",
    "By this last consideration we can still use our *brute force* approach to derandomization by going throw all the possible hash functions $h\\, \\in\\, \\mathscr{H}_{pm}$, determine a cut, compute its size and finally return the maximal one. In this way we obtain a polynomial time algorithm, but we still have to show that it's a 2-approximation for *MAX-CUT*.\n",
    "\n",
    "**Theorem**: Let $h\\, \\in\\, \\mathscr{H}_{pm}$ a cut determined by $h$ as an expected size greater or equal to $|E|/2$.\n",
    "\n",
    "*Proof:*"
   ]
  },
  {
   "attachments": {},
   "cell_type": "markdown",
   "metadata": {},
   "source": [
    "<img src=\"proof2.PNG\" style=\"height:500 ; width:500\">"
   ]
  },
  {
   "cell_type": "markdown",
   "metadata": {},
   "source": [
    "As already mentioned, going throw all the possible cuts given by the functions in $\\mathscr{H}_{pm}$ requires $\\mathcal{O}(n^2))$ time, computing a cut induced by each of them requires $\\mathcal{O}(poly(n))$ time, so the overall procedure has polynomial running time. Moreover the expected size of our cuts is at least half of the upper bound $|E|$ therefore, at least one has a size greater or equal to $|E|/2$. In conclusion the derandomized algorihm that we have obtained is a polynomial time 2-approximation for *MAX-CUT*.\n",
    "\n",
    "We can finally observe that this algorithm shows a high level of parallelism. The choice of putting a node in $S$ or not, is independent from what we have done with other nodes. Therefore this operation could be done in parallel. Furthermore the construction of a cut with a given $h$ is independent from the construction of all the other cuts, therefore also this operation could be done in parallel."
   ]
  },
  {
   "cell_type": "markdown",
   "metadata": {},
   "source": [
    "## Derandomization via conditional expectations\n",
    "\n",
    "Another method to derandomize an algorithm is via the use of *conditional\n",
    "expectations*. Suppose nodes $v_{1},v_{2},\\dots,v_{i}$ are already placed in $S$ and $\\bar{S}$ in a deterministic way. Let us analyze the expected size of the resulting cut if we were allowed to make random choices from now on, and focus on the choice of $v_{i+1}\\,$:\n",
    "\n",
    "\\begin{align*}\n",
    " \\mathbb{E}[\\text{cut-size}\\, |\\, v_{1},v_{2},\\dots,v_{i}\\, \\text{are placed}] & = \\frac{1}{2}\\, \\mathbb{E}[\\text{cut-size}\\, |\\, v_{1},v_{2},\\dots,v_{i}\\, \\text{are placed}\\, \\text{and}\\, v_{i+1}\\, \\in\\, S]\\\\\n",
    " & + \\frac{1}{2}\\, \\mathbb{E}[\\text{cut-size}\\, |\\, v_{1},v_{2},\\dots,v_{i}\\, \\text{are placed}\\, \\text{and}\\, v_{i+1}\\, \\in\\, \\bar{S}] \\\\\n",
    "\\end{align*}\n",
    "\n",
    "At least one of the two choices ($v_{i+1}\\, \\in S\\, \\text{or}\\, v_{i+1}\\, \\in \\bar{S}$) will not decrease the *cut-size*, therefore at least one of the following inequalities is true:\n",
    "\n",
    "\\begin{equation}\n",
    "\\mathbb{E}[\\text{cut-size}\\, |\\, v_{1},v_{2},\\dots,v_{i}\\, \\text{are placed}\\, \\text{and}\\, v_{i+1}\\, \\in\\, S]\\, \\geq\\, \\mathbb{E}[\\text{cut-size}\\, |\\, v_{1},v_{2},\\dots,v_{i}\\, \\text{are placed}]\n",
    "\\end{equation}\n",
    "\n",
    "\\begin{equation}\n",
    "\\mathbb{E}[\\text{cut-size}\\, |\\, v_{1},v_{2},\\dots,v_{i}\\, \\text{are placed}\\, \\text{and}\\, v_{i+1}\\, \\in\\, \\bar{S}]\\, \\geq\\, \\mathbb{E}[\\text{cut-size}\\, |\\, v_{1},v_{2},\\dots,v_{i}\\, \\text{are placed}]\n",
    "\\end{equation}\n",
    "\n",
    "Now assume that we know how to compute these expected values efficiently in both cases. We have already saw that making a random choice for every node guarantees that the resulting cut has an expected size of $|E|/2$. Now, starting from the beginning, we put a node in $S$ or $\\bar{S}$ in such a way that the expected *cut-size* increases. Using this strategy, we have the following chain of inequalities.\n",
    "\n",
    "\\begin{align*}\n",
    " \\frac{|E|}{2}\\, & \\leq\\, \\mathbb{E}[ \\text{cut-size} |\\, v_1\\, \\text{is placed according to the above strategy}]\\\\\n",
    " & \\leq\\, \\mathbb{E}[\\text{cut-size} |\\, v_{1},v_{2}\\, \\text{are placed according to the above strategy}]\\\\\n",
    " & \\leq\\, \\dots \\\\\n",
    " & \\leq\\, \\mathbb{E}[\\text{cut-size} |\\, v_{1},v_{2},\\dots,v_{n}\\, \\text{are placed according to the above strategy}]\n",
    "\\end{align*}\n",
    "\n",
    "Therefore, the expected value of our solutions will be at least $|E|/2$. However to incorporate this nodes selection strategy into an algorithm, we need a way to find out which expectation is bigger. Consider the situation where nodes $v_{1},v_{2},\\dots,v_{i}$ are somehow placed in $S$ or $\\bar{S}$, and we are making the choice for $v_{i+1}$. Graphically we have the following scenario:"
   ]
  },
  {
   "cell_type": "markdown",
   "metadata": {},
   "source": [
    "<img src=\"scheme.png\">"
   ]
  },
  {
   "cell_type": "markdown",
   "metadata": {},
   "source": [
    "Let us denote with $k$ the actual size of the cut, with $m_1$ and $m_2$ the edges that connects $v_{i+1}$\n",
    " respectively, to the nodes in $S$ and $\\bar{S}$, and with $L$ the edges involving $v_{i+2},\\dots,v_{n}$. Let's consider the two expected values:\n",
    "\n",
    "\\begin{equation}\n",
    " \\mathbb{E}[\\text{cut-size}\\, |\\, v_{1},v_{2},\\dots,v_{i}\\, \\text{are placed and}\\, v_{i+1}\\, \\in\\, S]\\, =\\, k\\,+\\,m_{2}\\,+\\,\\frac{L}{2}\n",
    "\\end{equation}\n",
    "\n",
    "\\begin{equation}\n",
    " \\mathbb{E}[\\text{cut-size}\\, |\\, v_{1},v_{2},\\dots,v_{i}\\, \\text{are placed and}\\, v_{i+1}\\, \\in\\, \\bar{S}]\\, =\\, k\\,+\\,m_{1}\\,+\\,\\frac{L}{2}\n",
    "\\end{equation}\n",
    "\n",
    "The two equations differs just by $m_1$ and $m_2$, therefore our greedy nodes selection strategy will be to compare $m_1$ and $m_2$ for every node $u\\, \\in\\, V$ and put it in the set that leads to a larger value of the current *cut-size*. These two values can be computed in different ways, one could be to look at the neighborhood of each node and count how many of theme are in $S$ or not. Assuming we can iteratively access the elements of $S$ in $\\mathcal{O}(1)$ time, the whole computation could be done in $\\mathcal{O}(n^{2}\\,m)$ time. As already mentioned before, the expected size of the computed cut will be at least $|E|/2$, which implies that every computed cut has a size greater or equal to that quantity. In conclusion the presented algorithm is a polynomial time 2-approximation for *MAX-CUT*."
   ]
  },
  {
   "cell_type": "markdown",
   "metadata": {},
   "source": [
    "## Python code implementation\n",
    "\n"
   ]
  },
  {
   "cell_type": "markdown",
   "metadata": {},
   "source": [
    "We will now see a python code implementation of the algorithms described in this lecture. Since later on we will compare the solutions provided by those algorithms, all the implementations will return the size of the maximum cut, not the cut itself.  First of all let's start with the one that exactly solves *MAX-CUT* by enumerating all the possible cuts and returning the size of the maximum one."
   ]
  },
  {
   "cell_type": "code",
   "execution_count": 21,
   "metadata": {},
   "outputs": [],
   "source": [
    "def exact_solution(G):\n",
    "    \n",
    "    #the set of nodes in G\n",
    "    nodes = G.nodes()\n",
    "\n",
    "    max_size = 0\n",
    "    \n",
    "    n = G.number_of_nodes()\n",
    "    \n",
    "    for i in range(n):\n",
    "        # generates all the subsets of V of cardinality i\n",
    "        subsets = it.combinations(nodes, i)\n",
    "        \n",
    "        #for each subset S computes |E(S,V\\S)|\n",
    "        for S in subsets:\n",
    "            cut_size = nx.cut_size(G, S)\n",
    "            if cut_size > max_size: max_size = cut_size\n",
    "    \n",
    "    return max_size"
   ]
  },
  {
   "cell_type": "markdown",
   "metadata": {},
   "source": [
    "The following code implements the randomized 2-approximation."
   ]
  },
  {
   "cell_type": "code",
   "execution_count": 22,
   "metadata": {},
   "outputs": [],
   "source": [
    "def randomized_approximation(G):\n",
    "    \n",
    "    S = []\n",
    "    \n",
    "    n = G.number_of_nodes()\n",
    "    \n",
    "    for i in range(n):\n",
    "        coin_flip = random.randint(0, 1)\n",
    "        if coin_flip: S.append(i)\n",
    "        \n",
    "    cut_size = nx.cut_size(G, S)\n",
    "    \n",
    "    return cut_size"
   ]
  },
  {
   "cell_type": "markdown",
   "metadata": {},
   "source": [
    "Using the *getPrime(m)* function directly copied from the lecture on *Universal hashing*, the following code implements the derandomization method based on universal hash functions."
   ]
  },
  {
   "cell_type": "code",
   "execution_count": 23,
   "metadata": {},
   "outputs": [],
   "source": [
    "def getPrime( m ):   # naive method to find a prime in [m+1, 2m]\n",
    "    def isPrime (x):\n",
    "        for i in range(2, int(math.sqrt(x))):\n",
    "            if x % i == 0:\n",
    "                return False\n",
    "        return True\n",
    "\n",
    "    for p in range(m+1, 2*m+1):\n",
    "        if isPrime(p):\n",
    "            return p\n",
    "\n",
    "def universal_hash_functions_derandomization(G):\n",
    "    \n",
    "    max_cut_size = 0\n",
    "\n",
    "    n = G.number_of_nodes()\n",
    "    \n",
    "    k = math.ceil(math.log2(n)) # 2^(k-1) < n <= 2^k\n",
    "    \n",
    "    p = getPrime(2**k) # getPrime guarantees that p is theta(2^k)\n",
    "    \n",
    "    m = 2\n",
    "    \n",
    "    # for every hash function in H we compute\n",
    "    # the corresponding cut and its size, if needed\n",
    "    # we update the maximal size\n",
    "    \n",
    "    for a in range(1, p-1):\n",
    "        for b in range(0, p-1):\n",
    "            \n",
    "            h = lambda u : ((a*u + b)%p)%m\n",
    "    \n",
    "            S = []\n",
    "        \n",
    "            for i in range(n):\n",
    "                if h(i):\n",
    "                    S.append(i)\n",
    "            \n",
    "            cut_size = nx.cut_size(G, S)\n",
    "            \n",
    "            if cut_size > max_cut_size:\n",
    "                max_cut_size = cut_size\n",
    "    \n",
    "    return max_cut_size"
   ]
  },
  {
   "cell_type": "markdown",
   "metadata": {},
   "source": [
    "This last piece of code implements the derandomization method based on conditional expectations. Before going through the implementation we should observe that when the algorithm starts $S$ is empty, so for every node $u\\, \\in V$ we have $m_1\\, =\\, 0$ and $m_2\\, =\\, |N(u)|$. Threfore, at the beginning we are free to choose any node to insert in $S$, as our strategy guarantees that the size of the resulting cut is at least half the optimum. But we have to be aware that this initial choice can make an impact on the quality of the solution. Anyway, for the sake of simplicty, the first node in $S$ will be the first node of the graph."
   ]
  },
  {
   "cell_type": "code",
   "execution_count": 24,
   "metadata": {},
   "outputs": [],
   "source": [
    "def conditional_expectance_derandomization(G):\n",
    "    \n",
    "    S = []\n",
    "    bar_S = list(G.nodes()) # returns the list of nodes in G\n",
    "    m1 = 0\n",
    "    m2 = 0\n",
    "    \n",
    "    n = G.number_of_nodes()\n",
    "    \n",
    "    for i in range(1,n):\n",
    "                \n",
    "        for u in S:\n",
    "            if G.has_edge(i, u):\n",
    "                m1+=1\n",
    "        \n",
    "        for u in bar_S:\n",
    "            if G.has_edge(i, u):\n",
    "                m2+=1\n",
    "                \n",
    "        if m1 <= m2 :\n",
    "            S.append(i)\n",
    "            bar_S.remove(i)\n",
    "            \n",
    "        m1 = 0\n",
    "        m2 = 0\n",
    "        \n",
    "    cut_size = nx.cut_size(G, S)\n",
    "    \n",
    "    return cut_size\n"
   ]
  },
  {
   "cell_type": "markdown",
   "metadata": {},
   "source": [
    "Now we want to verify that our implementations are corrects, in this regard we should check that our two deterministic approximation compute a cut which size is at least half the optimal one, while for the randomized one, the same condition concerns the expected size. obviously this type of test cannot be exhaustive and in order to carry it out, the optimum will be computed through the *brute force* algorithm, therefore we will use only small graphs. For the sake of simplicity, each of these instances will be of increasing size and generated at random, with a probability of having an edge $\\{i,j\\}$ of $0.5$ for every distinct node $i,j$."
   ]
  },
  {
   "cell_type": "code",
   "execution_count": 25,
   "metadata": {},
   "outputs": [],
   "source": [
    "nodes        = []\n",
    "half_max     = []\n",
    "samples1     = []\n",
    "samples2     = []\n",
    "samples3     = []\n",
    "\n",
    "count1       = 0\n",
    "count2       = 0\n",
    "count3       = 0\n",
    "\n",
    "# in order to compute the expected value of a solution\n",
    "# given by the randomized algorithm, we run it RUNS times\n",
    "# on the same instance and take the average over all\n",
    "# the results.\n",
    "\n",
    "RUNS         = 2000\n",
    "\n",
    "def compute_average(G, f):\n",
    "    \n",
    "    cut_size = 0\n",
    "    \n",
    "    for i in range(RUNS):\n",
    "        cut_size += f(G)\n",
    "    \n",
    "    return cut_size/RUNS\n",
    "\n",
    "for i in range(2, 16, 2):\n",
    "    \n",
    "    # G is a randomly constructed graph with i nodes\n",
    "    G = nx.gnp_random_graph(i, 0.5)\n",
    "    \n",
    "    nodes.append(i)\n",
    "    \n",
    "    samples1.append(compute_average(G, randomized_approximation))\n",
    "    samples2.append(universal_hash_functions_derandomization(G))\n",
    "    samples3.append(conditional_expectance_derandomization(G)) \n",
    "    \n",
    "    half_max.append(exact_solution(G)/2)"
   ]
  },
  {
   "cell_type": "code",
   "execution_count": 26,
   "metadata": {},
   "outputs": [
    {
     "data": {
      "image/png": "[encoded data removed]",
      "text/plain": [
       "<Figure size 432x288 with 1 Axes>"
      ]
     },
     "metadata": {
      "needs_background": "light"
     },
     "output_type": "display_data"
    },
    {
     "name": "stdout",
     "output_type": "stream",
     "text": [
      "Number of times the approximation algorithm computes a size larger than OPT/2: 6\n",
      "Number of times the approximation algorithm computes a size less than OPT/2: 1\n"
     ]
    }
   ],
   "source": [
    "for i in range(len(samples1)):\n",
    "    if samples1[i] >= half_max[i]:\n",
    "        count1+=1\n",
    "    if samples2[i] >= half_max[i]:\n",
    "        count2+=1\n",
    "    if samples3[i] >= half_max[i]:\n",
    "        count3+=1\n",
    "\n",
    "plt.plot(nodes, samples1)\n",
    "plt.plot(nodes, half_max)\n",
    "plt.xlabel('number of nodes')\n",
    "plt.ylabel('average size of the cut')\n",
    "plt.gca().legend(('randomized approx.','OPT / 2'))\n",
    "plt.show()\n",
    "\n",
    "print(\"Number of times the approximation algorithm computes a size larger than OPT/2: %i\"%count1)\n",
    "print(\"Number of times the approximation algorithm computes a size less than OPT/2: %i\"%(len(samples1)-count1))"
   ]
  },
  {
   "cell_type": "code",
   "execution_count": 27,
   "metadata": {},
   "outputs": [
    {
     "data": {
      "image/png": "[encoded data removed]",
      "text/plain": [
       "<Figure size 432x288 with 1 Axes>"
      ]
     },
     "metadata": {
      "needs_background": "light"
     },
     "output_type": "display_data"
    },
    {
     "name": "stdout",
     "output_type": "stream",
     "text": [
      "Number of times the hash functions algorithm computes a size larger than OPT/2: 7\n",
      "Number of times the hash functions algorithm computes a size less than OPT/2: 0\n"
     ]
    }
   ],
   "source": [
    "plt.plot(nodes, samples2)\n",
    "plt.plot(nodes, half_max)\n",
    "plt.xlabel('number of nodes')\n",
    "plt.ylabel('size of the cut')\n",
    "plt.gca().legend(('hash functions approx.','OPT / 2'))\n",
    "plt.show()\n",
    "\n",
    "print(\"Number of times the hash functions algorithm computes a size larger than OPT/2: %i\"%count2)\n",
    "print(\"Number of times the hash functions algorithm computes a size less than OPT/2: %i\"%(len(samples1)-count2))"
   ]
  },
  {
   "cell_type": "code",
   "execution_count": 28,
   "metadata": {},
   "outputs": [
    {
     "data": {
      "image/png": "[encoded data removed]",
      "text/plain": [
       "<Figure size 432x288 with 1 Axes>"
      ]
     },
     "metadata": {
      "needs_background": "light"
     },
     "output_type": "display_data"
    },
    {
     "name": "stdout",
     "output_type": "stream",
     "text": [
      "Number of times the cond. expectations algorithm computes a size larger than OPT/2: 7\n",
      "Number of times the cond. expectations algorithm computes a size less than OPT/2: 0\n"
     ]
    }
   ],
   "source": [
    "plt.plot(nodes, samples3)\n",
    "plt.plot(nodes, half_max)\n",
    "plt.xlabel('number of nodes')\n",
    "plt.ylabel('size of the cut')\n",
    "plt.gca().legend(('cond. expectations approx.','OPT / 2'))\n",
    "plt.show()\n",
    "\n",
    "print(\"Number of times the cond. expectations algorithm computes a size larger than OPT/2: %i\"%count3)\n",
    "print(\"Number of times the cond. expectations algorithm computes a size less than OPT/2: %i\"%(len(samples1)-count3))"
   ]
  },
  {
   "cell_type": "markdown",
   "metadata": {},
   "source": [
    "## Comparison between the presented algorithms\n",
    "\n",
    "We can assume that the three implementations are corrects. At this point, an interesting thing to see is which algorithm provides the best quality solution over a given set of instances. As discussed above, for practical reasons, the set of instances will be very small and probably none of them models a real situation, therefore these results could be different in practice. The following code runs the three algorithms on a set of randomly constructed graphs of increasing size, collects and plots the results, finally shows the number of times an algorithm beats the others."
   ]
  },
  {
   "cell_type": "code",
   "execution_count": 33,
   "metadata": {},
   "outputs": [
    {
     "data": {
      "image/png": "[encoded data removed]",
      "text/plain": [
       "<Figure size 1080x432 with 1 Axes>"
      ]
     },
     "metadata": {
      "needs_background": "light"
     },
     "output_type": "display_data"
    },
    {
     "name": "stdout",
     "output_type": "stream",
     "text": [
      "Number of times the randomized algorithm beats the others: 2\n",
      "Number of times the hash functions algorithm beats the others: 27\n",
      "Number of times the conditional exp. algorithm beats the others: 7\n"
     ]
    }
   ],
   "source": [
    "nodes        = []\n",
    "samples1     = []\n",
    "samples2     = []\n",
    "samples3     = []\n",
    "\n",
    "count1       = 0\n",
    "count2       = 0\n",
    "count3       = 0\n",
    "\n",
    "START        = 3\n",
    "LIMIT        = 30\n",
    "\n",
    "for i in range(START, LIMIT):\n",
    "    G = nx.gnp_random_graph(i, 0.50)\n",
    "    nodes.append(i)\n",
    "    \n",
    "    result1 = randomized_approximation(G)\n",
    "    result2 = universal_hash_functions_derandomization(G)\n",
    "    result3 = conditional_expectance_derandomization(G)\n",
    "    \n",
    "    max_value = max(result1, result2, result3)\n",
    "\n",
    "    if max_value==result1:\n",
    "        count1+=1\n",
    "    if max_value==result2:\n",
    "        count2+=1\n",
    "    if max_value==result3:\n",
    "        count3+=1\n",
    "    \n",
    "    samples1.append(result1)\n",
    "    samples2.append(result2)\n",
    "    samples3.append(result3)\n",
    "    \n",
    "plt.figure(figsize=(15, 6))\n",
    "    \n",
    "plt.plot(nodes, samples1)\n",
    "plt.plot(nodes, samples2)\n",
    "plt.plot(nodes, samples3)\n",
    "plt.xlabel(\"Number of nodes\")\n",
    "plt.ylabel(\"Size of the cut\")\n",
    "plt.gca().legend(('randomized','hash functions','cond. expectation'))\n",
    "plt.show()\n",
    "\n",
    "print(\"Number of times the randomized algorithm beats the others: %i\"%count1)\n",
    "print(\"Number of times the hash functions algorithm beats the others: %i\"%count2)\n",
    "print(\"Number of times the conditional exp. algorithm beats the others: %i\"%count3)"
   ]
  },
  {
   "cell_type": "markdown",
   "metadata": {},
   "source": [
    "Looking at these results and combining them with the previous analysis, we can observe that we have two extreme cases:\n",
    "\n",
    "- the algorithm based on hash functions is the most accurate but also the slowest one. \n",
    "\n",
    "- the randomized one is clearly the fastest but also the less accurate.\n",
    "\n",
    "A good tradeoff between these two seems to be the one based on conditional expectations, since, most of the times its solutions are better than the ones computed by the randomized algorithm and, under a reasonable assumption, it's faster than the one based on hash functions. But we have to remark the fact that the latter one shows a very high level of parallelism, threfore an implementation that exploits this feature could greatly reduce the processing time while leaving the quality of the computed solutions unchanged, making it probably the best choice."
   ]
  },
  {
   "cell_type": "markdown",
   "metadata": {},
   "source": [
    "## Conclusions\n",
    "\n",
    "In this lecture using the *MAX-CUT* problem as a case study, we saw how randomness can be exploited to design approximation algorithms. Furthermore, two techniques for derandomization were presented, one based on hash functions and the other on conditional expectations. The algorithms thus obtained provide better guarantees on the quality of the computed solutions. Finally we have tested and compared theme on a small set of instances, finding out that the one based on hash functions could be the most suitable for a real implementation."
   ]
  },
  {
   "cell_type": "markdown",
   "metadata": {},
   "source": [
    "## References\n",
    "\n",
    "- T. H. Cormen, C. E. Leiserson, R. L. Rivest, C. Stein, *Introduction to Algorithms*, 3rd ed, MIT Press. (Chapter 35)\n",
    "\n",
    "- Jin-Yi Cai, CS 810: Introduction to Complexity Theory, *Lecture 19: Randomized Algorithms: MAXCUT*, University of Wisconsin.\n",
    "\n",
    "- Pavan Aduri, Com S 633: Randomness in Computation, *Derandomization*, Iowa State University."
   ]
  }
 ],
 "metadata": {
  "kernelspec": {
   "display_name": "Python 3",
   "language": "python",
   "name": "python3"
  },
  "language_info": {
   "codemirror_mode": {
    "name": "ipython",
    "version": 3
   },
   "file_extension": ".py",
   "mimetype": "text/x-python",
   "name": "python",
   "nbconvert_exporter": "python",
   "pygments_lexer": "ipython3",
   "version": "3.7.6"
  }
 },
 "nbformat": 4,
 "nbformat_minor": 2
}
